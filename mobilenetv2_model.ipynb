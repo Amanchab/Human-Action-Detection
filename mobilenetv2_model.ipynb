{
 "cells": [
  {
   "cell_type": "code",
   "execution_count": 1,
   "metadata": {},
   "outputs": [],
   "source": [
    "# pip install tensorflow"
   ]
  },
  {
   "cell_type": "code",
   "execution_count": 2,
   "metadata": {
    "execution": {
     "iopub.execute_input": "2021-06-28T21:12:08.176151Z",
     "iopub.status.busy": "2021-06-28T21:12:08.175772Z",
     "iopub.status.idle": "2021-06-28T21:12:08.188567Z",
     "shell.execute_reply": "2021-06-28T21:12:08.187647Z",
     "shell.execute_reply.started": "2021-06-28T21:12:08.176065Z"
    },
    "id": "YMm4qVv5qtGE",
    "outputId": "46034115-6222-4708-e9ef-f7f407130943"
   },
   "outputs": [
    {
     "name": "stdout",
     "output_type": "stream",
     "text": [
      "Windows-10-10.0.22621-SP0\n"
     ]
    }
   ],
   "source": [
    "import os\n",
    "import platform\n",
    "from IPython.display import clear_output\n",
    "print(platform.platform())\n",
    "\n",
    "def resolve_dir(Dir):\n",
    "    if not os.path.exists(Dir):\n",
    "        os.mkdir(Dir)\n",
    "\n",
    "def reset_path(Dir):\n",
    "    if not os.path.exists(Dir):\n",
    "        os.mkdir(Dir)\n",
    "    else:\n",
    "        os.system('rm -f {}/*'.format( Dir))"
   ]
  },
  {
   "cell_type": "code",
   "execution_count": 3,
   "metadata": {
    "execution": {
     "iopub.execute_input": "2021-06-28T21:12:12.539247Z",
     "iopub.status.busy": "2021-06-28T21:12:12.538912Z",
     "iopub.status.idle": "2021-06-28T21:12:18.360385Z",
     "shell.execute_reply": "2021-06-28T21:12:18.359448Z",
     "shell.execute_reply.started": "2021-06-28T21:12:12.539218Z"
    },
    "id": "m77ifGzHqtBg",
    "outputId": "cccebfce-fcbf-4a7d-802b-4de91b6e4772"
   },
   "outputs": [
    {
     "name": "stderr",
     "output_type": "stream",
     "text": [
      "c:\\Users\\Jason_Chesney\\AppData\\Local\\Programs\\Python\\Python311\\Lib\\site-packages\\requests\\__init__.py:109: RequestsDependencyWarning: urllib3 (2.0.0) or chardet (None)/charset_normalizer (3.1.0) doesn't match a supported version!\n",
      "  warnings.warn(\n"
     ]
    },
    {
     "name": "stdout",
     "output_type": "stream",
     "text": [
      "Mon May  1 23:46:29 2023       \n",
      "+---------------------------------------------------------------------------------------+\n",
      "| NVIDIA-SMI 531.68                 Driver Version: 531.68       CUDA Version: 12.1     |\n",
      "|-----------------------------------------+----------------------+----------------------+\n",
      "| GPU  Name                      TCC/WDDM | Bus-Id        Disp.A | Volatile Uncorr. ECC |\n",
      "| Fan  Temp  Perf            Pwr:Usage/Cap|         Memory-Usage | GPU-Util  Compute M. |\n",
      "|                                         |                      |               MIG M. |\n",
      "|=========================================+======================+======================|\n",
      "|   0  NVIDIA GeForce RTX 3050 T...  WDDM | 00000000:01:00.0 Off |                  N/A |\n",
      "| N/A   50C    P8               10W /  N/A|     94MiB /  4096MiB |      0%      Default |\n",
      "|                                         |                      |                  N/A |\n",
      "+-----------------------------------------+----------------------+----------------------+\n",
      "                                                                                         \n",
      "+---------------------------------------------------------------------------------------+\n",
      "| Processes:                                                                            |\n",
      "|  GPU   GI   CI        PID   Type   Process name                            GPU Memory |\n",
      "|        ID   ID                                                             Usage      |\n",
      "|=======================================================================================|\n",
      "|    0   N/A  N/A     11372    C+G   ...Brave-Browser\\Application\\brave.exe    N/A      |\n",
      "+---------------------------------------------------------------------------------------+\n",
      "Tensorflow version 2.12.0\n"
     ]
    }
   ],
   "source": [
    "import tensorflow as tf\n",
    "tf.random.set_seed(73)\n",
    "TPU_INIT = False\n",
    "\n",
    "if TPU_INIT:\n",
    "    try:\n",
    "        tpu = tf.distribute.cluster_resolver.TPUClusterResolver.connect()\n",
    "        tpu_strategy = tf.distribute.experimental.TPUStrategy(tpu)\n",
    "    \n",
    "    except ValueError:\n",
    "        raise BaseException('ERROR: Not connected to a TPU runtime!')\n",
    "else:\n",
    "    !nvidia-smi   \n",
    "print(\"Tensorflow version \" + tf.__version__)"
   ]
  },
  {
   "cell_type": "code",
   "execution_count": 4,
   "metadata": {
    "execution": {
     "iopub.execute_input": "2021-06-28T21:12:26.392432Z",
     "iopub.status.busy": "2021-06-28T21:12:26.392057Z",
     "iopub.status.idle": "2021-06-28T21:12:27.147421Z",
     "shell.execute_reply": "2021-06-28T21:12:27.146411Z",
     "shell.execute_reply.started": "2021-06-28T21:12:26.392397Z"
    },
    "id": "DwRUpYt5qs1l"
   },
   "outputs": [],
   "source": [
    "MyDrive = '/kaggle/working'\n",
    "PROJECT_DIR = 'C:/Users/AMAN/Downloads/Chindi_Chitrana/'"
   ]
  },
  {
   "attachments": {},
   "cell_type": "markdown",
   "metadata": {
    "id": "xelnEP2OsH_7"
   },
   "source": [
    "## **Preprocessing**\n",
    "+ **Getting frames form video**\n",
    "+ **some image argumentations**"
   ]
  },
  {
   "cell_type": "code",
   "execution_count": 5,
   "metadata": {
    "execution": {
     "iopub.execute_input": "2021-06-28T21:13:35.503988Z",
     "iopub.status.busy": "2021-06-28T21:13:35.503640Z",
     "iopub.status.idle": "2021-06-28T21:13:37.178990Z",
     "shell.execute_reply": "2021-06-28T21:13:37.178190Z",
     "shell.execute_reply.started": "2021-06-28T21:13:35.503957Z"
    },
    "id": "VNftx0E_sH_9"
   },
   "outputs": [
    {
     "ename": "ModuleNotFoundError",
     "evalue": "No module named 'imageio'",
     "output_type": "error",
     "traceback": [
      "\u001b[1;31m---------------------------------------------------------------------------\u001b[0m",
      "\u001b[1;31mModuleNotFoundError\u001b[0m                       Traceback (most recent call last)",
      "Cell \u001b[1;32mIn[5], line 3\u001b[0m\n\u001b[0;32m      1\u001b[0m \u001b[39mimport\u001b[39;00m \u001b[39mcv2\u001b[39;00m\n\u001b[0;32m      2\u001b[0m \u001b[39mimport\u001b[39;00m \u001b[39mos\u001b[39;00m\n\u001b[1;32m----> 3\u001b[0m \u001b[39mimport\u001b[39;00m \u001b[39mimageio\u001b[39;00m\n\u001b[0;32m      4\u001b[0m \u001b[39mimport\u001b[39;00m \u001b[39mimgaug\u001b[39;00m\u001b[39m.\u001b[39;00m\u001b[39maugmenters\u001b[39;00m \u001b[39mas\u001b[39;00m \u001b[39miaa\u001b[39;00m\n\u001b[0;32m      5\u001b[0m \u001b[39mimport\u001b[39;00m \u001b[39mimgaug\u001b[39;00m \u001b[39mas\u001b[39;00m \u001b[39mia\u001b[39;00m\n",
      "\u001b[1;31mModuleNotFoundError\u001b[0m: No module named 'imageio'"
     ]
    }
   ],
   "source": [
    "import cv2\n",
    "import os\n",
    "import imageio\n",
    "import imgaug.augmenters as iaa\n",
    "import imgaug as ia\n",
    "\n",
    "IMG_SIZE = 128\n",
    "ColorChannels = 3\n",
    "\n",
    "def video_to_frames(video):\n",
    "    vidcap = cv2.VideoCapture(video)\n",
    "    \n",
    "    import math\n",
    "    rate = math.floor(vidcap.get(3))\n",
    "    count = 0\n",
    "    \n",
    "    ImageFrames = []\n",
    "    while vidcap.isOpened():\n",
    "        ID = vidcap.get(1)\n",
    "        success, image = vidcap.read()\n",
    "        \n",
    "        if success:\n",
    "            # skipping frames to avoid duplications \n",
    "            if (ID % 7 == 0):\n",
    "                flip = iaa.Fliplr(1.0)\n",
    "                zoom = iaa.Affine(scale=1.3)\n",
    "                random_brightness = iaa.Multiply((1, 1.3))\n",
    "                rotate = iaa.Affine(rotate=(-25, 25))\n",
    "                \n",
    "                image_aug = flip(image = image)\n",
    "                image_aug = random_brightness(image = image_aug)\n",
    "                image_aug = zoom(image = image_aug)\n",
    "                image_aug = rotate(image = image_aug)\n",
    "                \n",
    "                rgb_img = cv2.cvtColor(image_aug, cv2.COLOR_BGR2RGB)\n",
    "                resized = cv2.resize(rgb_img, (IMG_SIZE, IMG_SIZE))\n",
    "                ImageFrames.append(resized)\n",
    "                \n",
    "            count += 1\n",
    "        else:\n",
    "            break\n",
    "    \n",
    "    vidcap.release()\n",
    "    \n",
    "    return ImageFrames"
   ]
  },
  {
   "cell_type": "code",
   "execution_count": null,
   "metadata": {
    "execution": {
     "iopub.execute_input": "2021-06-28T21:13:41.414231Z",
     "iopub.status.busy": "2021-06-28T21:13:41.413870Z",
     "iopub.status.idle": "2021-06-28T21:17:29.584414Z",
     "shell.execute_reply": "2021-06-28T21:17:29.581822Z",
     "shell.execute_reply.started": "2021-06-28T21:13:41.414198Z"
    },
    "id": "VtjFbXZKsH_-",
    "outputId": "26ea2589-1b55-47d5-947c-7bb5bd21f999"
   },
   "outputs": [
    {
     "name": "stdout",
     "output_type": "stream",
     "text": [
      "we have \n",
      "1000 Violence videos \n",
      "1000 NonViolence videos\n",
      "i choose 700 videos out of 2000, cuz of memory issue\n"
     ]
    },
    {
     "name": "stderr",
     "output_type": "stream",
     "text": [
      "100%|████████████████████████████████████████████████████████████████████████████████| 350/350 [00:58<00:00,  6.01it/s]\n",
      "100%|████████████████████████████████████████████████████████████████████████████████| 350/350 [01:41<00:00,  3.44it/s]"
     ]
    },
    {
     "name": "stdout",
     "output_type": "stream",
     "text": [
      "CPU times: total: 2min 10s\n",
      "Wall time: 2min 40s\n"
     ]
    },
    {
     "name": "stderr",
     "output_type": "stream",
     "text": [
      "\n"
     ]
    }
   ],
   "source": [
    "%%time\n",
    "from tqdm import tqdm\n",
    "\n",
    "VideoDataDir = PROJECT_DIR + '/Real Life Violence Dataset'\n",
    "print('we have \\n{} Violence videos \\n{} NonViolence videos'.format(\n",
    "              len(os.listdir(VideoDataDir + '/Violence')), \n",
    "              len(os.listdir(VideoDataDir + '/NonViolence'))))\n",
    "\n",
    "X_original = []\n",
    "y_original = []\n",
    "\n",
    "print('i choose 700 videos out of 2000, cuz of memory issue')\n",
    "CLASSES = [\"NonViolence\", \"Violence\"]\n",
    "#700 <- 350 + 350\n",
    "\n",
    "for category in os.listdir(VideoDataDir):\n",
    "    path = os.path.join(VideoDataDir, category)\n",
    "    class_num = CLASSES.index(category)\n",
    "    for i, video in enumerate(tqdm(os.listdir(path)[0:350])):\n",
    "        frames = video_to_frames(path + '/' + video)\n",
    "        for j, frame in enumerate(frames):\n",
    "            X_original.append(frame)\n",
    "            y_original.append(class_num)"
   ]
  },
  {
   "cell_type": "code",
   "execution_count": null,
   "metadata": {
    "execution": {
     "iopub.execute_input": "2021-06-28T21:18:34.638320Z",
     "iopub.status.busy": "2021-06-28T21:18:34.637958Z",
     "iopub.status.idle": "2021-06-28T21:18:34.864211Z",
     "shell.execute_reply": "2021-06-28T21:18:34.863222Z",
     "shell.execute_reply.started": "2021-06-28T21:18:34.638286Z"
    },
    "id": "0Knwy2OjsH__",
    "outputId": "53453a2c-9bc7-4210-8736-b89ce5819e15"
   },
   "outputs": [
    {
     "data": {
      "text/plain": [
       "13979"
      ]
     },
     "execution_count": 10,
     "metadata": {},
     "output_type": "execute_result"
    }
   ],
   "source": [
    "import numpy as np\n",
    "X_original = np.array(X_original).reshape(-1 , IMG_SIZE * IMG_SIZE * 3)\n",
    "y_original = np.array(y_original)\n",
    "len(X_original)"
   ]
  },
  {
   "cell_type": "code",
   "execution_count": null,
   "metadata": {
    "execution": {
     "iopub.execute_input": "2021-06-28T21:18:40.130114Z",
     "iopub.status.busy": "2021-06-28T21:18:40.129780Z",
     "iopub.status.idle": "2021-06-28T21:18:42.322266Z",
     "shell.execute_reply": "2021-06-28T21:18:42.321377Z",
     "shell.execute_reply.started": "2021-06-28T21:18:40.130083Z"
    },
    "id": "ziCGqqa9sIAA"
   },
   "outputs": [],
   "source": [
    "from sklearn.model_selection import StratifiedShuffleSplit\n",
    "\n",
    "stratified_sample = StratifiedShuffleSplit(n_splits=2, test_size=0.3, random_state=73)\n",
    "\n",
    "for train_index, test_index in stratified_sample.split(X_original, y_original):\n",
    "    X_train, X_test = X_original[train_index], X_original[test_index]\n",
    "    y_train, y_test = y_original[train_index], y_original[test_index]\n",
    "\n",
    "X_train_nn = X_train.reshape(-1, IMG_SIZE, IMG_SIZE, 3) / 255\n",
    "X_test_nn = X_test.reshape(-1, IMG_SIZE, IMG_SIZE, 3) / 255"
   ]
  },
  {
   "attachments": {},
   "cell_type": "markdown",
   "metadata": {
    "id": "fvmfQMM0p46i"
   },
   "source": [
    "## **Model Training**"
   ]
  },
  {
   "cell_type": "code",
   "execution_count": null,
   "metadata": {
    "execution": {
     "iopub.execute_input": "2021-06-28T21:18:46.747492Z",
     "iopub.status.busy": "2021-06-28T21:18:46.747115Z",
     "iopub.status.idle": "2021-06-28T21:18:56.074221Z",
     "shell.execute_reply": "2021-06-28T21:18:56.073342Z",
     "shell.execute_reply.started": "2021-06-28T21:18:46.747463Z"
    },
    "id": "loeXLm9-sIAB"
   },
   "outputs": [],
   "source": [
    "!pip install imutils\n",
    "clear_output()"
   ]
  },
  {
   "cell_type": "code",
   "execution_count": null,
   "metadata": {
    "execution": {
     "iopub.execute_input": "2021-06-28T21:19:00.024214Z",
     "iopub.status.busy": "2021-06-28T21:19:00.023698Z",
     "iopub.status.idle": "2021-06-28T21:19:00.097339Z",
     "shell.execute_reply": "2021-06-28T21:19:00.096328Z",
     "shell.execute_reply.started": "2021-06-28T21:19:00.024167Z"
    },
    "id": "f5SLkPZ2I01J"
   },
   "outputs": [],
   "source": [
    "import cv2\n",
    "import os\n",
    "import numpy as np\n",
    "import pickle\n",
    "import matplotlib\n",
    "matplotlib.use(\"Agg\")\n",
    "\n",
    "from keras.layers import Input\n",
    "from keras.models import Model\n",
    "from keras.layers.core import Dropout,Flatten,Dense\n",
    "\n",
    "import matplotlib.pyplot as plt"
   ]
  },
  {
   "cell_type": "code",
   "execution_count": null,
   "metadata": {
    "_kg_hide-output": true,
    "execution": {
     "iopub.execute_input": "2021-06-28T21:19:03.585235Z",
     "iopub.status.busy": "2021-06-28T21:19:03.584867Z",
     "iopub.status.idle": "2021-06-28T21:19:06.799324Z",
     "shell.execute_reply": "2021-06-28T21:19:06.798517Z",
     "shell.execute_reply.started": "2021-06-28T21:19:03.585199Z"
    },
    "id": "dNsCZbY3p8VM",
    "outputId": "431b8715-b9d1-4bb0-eb7e-5758027c14ac"
   },
   "outputs": [
    {
     "name": "stdout",
     "output_type": "stream",
     "text": [
      "WARNING:tensorflow:`input_shape` is undefined or non-square, or `rows` is not in [96, 128, 160, 192, 224]. Weights for input shape (224, 224) will be loaded as the default.\n",
      "Compiling model...\n",
      "Model: \"model\"\n",
      "__________________________________________________________________________________________________\n",
      " Layer (type)                   Output Shape         Param #     Connected to                     \n",
      "==================================================================================================\n",
      " input_1 (InputLayer)           [(None, 128, 128, 3  0           []                               \n",
      "                                )]                                                                \n",
      "                                                                                                  \n",
      " Conv1 (Conv2D)                 (None, 64, 64, 32)   864         ['input_1[0][0]']                \n",
      "                                                                                                  \n",
      " bn_Conv1 (BatchNormalization)  (None, 64, 64, 32)   128         ['Conv1[0][0]']                  \n",
      "                                                                                                  \n",
      " Conv1_relu (ReLU)              (None, 64, 64, 32)   0           ['bn_Conv1[0][0]']               \n",
      "                                                                                                  \n",
      " expanded_conv_depthwise (Depth  (None, 64, 64, 32)  288         ['Conv1_relu[0][0]']             \n",
      " wiseConv2D)                                                                                      \n",
      "                                                                                                  \n",
      " expanded_conv_depthwise_BN (Ba  (None, 64, 64, 32)  128         ['expanded_conv_depthwise[0][0]']\n",
      " tchNormalization)                                                                                \n",
      "                                                                                                  \n",
      " expanded_conv_depthwise_relu (  (None, 64, 64, 32)  0           ['expanded_conv_depthwise_BN[0][0\n",
      " ReLU)                                                           ]']                              \n",
      "                                                                                                  \n",
      " expanded_conv_project (Conv2D)  (None, 64, 64, 16)  512         ['expanded_conv_depthwise_relu[0]\n",
      "                                                                 [0]']                            \n",
      "                                                                                                  \n",
      " expanded_conv_project_BN (Batc  (None, 64, 64, 16)  64          ['expanded_conv_project[0][0]']  \n",
      " hNormalization)                                                                                  \n",
      "                                                                                                  \n",
      " block_1_expand (Conv2D)        (None, 64, 64, 96)   1536        ['expanded_conv_project_BN[0][0]'\n",
      "                                                                 ]                                \n",
      "                                                                                                  \n",
      " block_1_expand_BN (BatchNormal  (None, 64, 64, 96)  384         ['block_1_expand[0][0]']         \n",
      " ization)                                                                                         \n",
      "                                                                                                  \n",
      " block_1_expand_relu (ReLU)     (None, 64, 64, 96)   0           ['block_1_expand_BN[0][0]']      \n",
      "                                                                                                  \n",
      " block_1_pad (ZeroPadding2D)    (None, 65, 65, 96)   0           ['block_1_expand_relu[0][0]']    \n",
      "                                                                                                  \n",
      " block_1_depthwise (DepthwiseCo  (None, 32, 32, 96)  864         ['block_1_pad[0][0]']            \n",
      " nv2D)                                                                                            \n",
      "                                                                                                  \n",
      " block_1_depthwise_BN (BatchNor  (None, 32, 32, 96)  384         ['block_1_depthwise[0][0]']      \n",
      " malization)                                                                                      \n",
      "                                                                                                  \n",
      " block_1_depthwise_relu (ReLU)  (None, 32, 32, 96)   0           ['block_1_depthwise_BN[0][0]']   \n",
      "                                                                                                  \n",
      " block_1_project (Conv2D)       (None, 32, 32, 24)   2304        ['block_1_depthwise_relu[0][0]'] \n",
      "                                                                                                  \n",
      " block_1_project_BN (BatchNorma  (None, 32, 32, 24)  96          ['block_1_project[0][0]']        \n",
      " lization)                                                                                        \n",
      "                                                                                                  \n",
      " block_2_expand (Conv2D)        (None, 32, 32, 144)  3456        ['block_1_project_BN[0][0]']     \n",
      "                                                                                                  \n",
      " block_2_expand_BN (BatchNormal  (None, 32, 32, 144)  576        ['block_2_expand[0][0]']         \n",
      " ization)                                                                                         \n",
      "                                                                                                  \n",
      " block_2_expand_relu (ReLU)     (None, 32, 32, 144)  0           ['block_2_expand_BN[0][0]']      \n",
      "                                                                                                  \n",
      " block_2_depthwise (DepthwiseCo  (None, 32, 32, 144)  1296       ['block_2_expand_relu[0][0]']    \n",
      " nv2D)                                                                                            \n",
      "                                                                                                  \n",
      " block_2_depthwise_BN (BatchNor  (None, 32, 32, 144)  576        ['block_2_depthwise[0][0]']      \n",
      " malization)                                                                                      \n",
      "                                                                                                  \n",
      " block_2_depthwise_relu (ReLU)  (None, 32, 32, 144)  0           ['block_2_depthwise_BN[0][0]']   \n",
      "                                                                                                  \n",
      " block_2_project (Conv2D)       (None, 32, 32, 24)   3456        ['block_2_depthwise_relu[0][0]'] \n",
      "                                                                                                  \n",
      " block_2_project_BN (BatchNorma  (None, 32, 32, 24)  96          ['block_2_project[0][0]']        \n",
      " lization)                                                                                        \n",
      "                                                                                                  \n",
      " block_2_add (Add)              (None, 32, 32, 24)   0           ['block_1_project_BN[0][0]',     \n",
      "                                                                  'block_2_project_BN[0][0]']     \n",
      "                                                                                                  \n",
      " block_3_expand (Conv2D)        (None, 32, 32, 144)  3456        ['block_2_add[0][0]']            \n",
      "                                                                                                  \n",
      " block_3_expand_BN (BatchNormal  (None, 32, 32, 144)  576        ['block_3_expand[0][0]']         \n",
      " ization)                                                                                         \n",
      "                                                                                                  \n",
      " block_3_expand_relu (ReLU)     (None, 32, 32, 144)  0           ['block_3_expand_BN[0][0]']      \n",
      "                                                                                                  \n",
      " block_3_pad (ZeroPadding2D)    (None, 33, 33, 144)  0           ['block_3_expand_relu[0][0]']    \n"
     ]
    },
    {
     "name": "stdout",
     "output_type": "stream",
     "text": [
      "                                                                                                  \n",
      " block_3_depthwise (DepthwiseCo  (None, 16, 16, 144)  1296       ['block_3_pad[0][0]']            \n",
      " nv2D)                                                                                            \n",
      "                                                                                                  \n",
      " block_3_depthwise_BN (BatchNor  (None, 16, 16, 144)  576        ['block_3_depthwise[0][0]']      \n",
      " malization)                                                                                      \n",
      "                                                                                                  \n",
      " block_3_depthwise_relu (ReLU)  (None, 16, 16, 144)  0           ['block_3_depthwise_BN[0][0]']   \n",
      "                                                                                                  \n",
      " block_3_project (Conv2D)       (None, 16, 16, 32)   4608        ['block_3_depthwise_relu[0][0]'] \n",
      "                                                                                                  \n",
      " block_3_project_BN (BatchNorma  (None, 16, 16, 32)  128         ['block_3_project[0][0]']        \n",
      " lization)                                                                                        \n",
      "                                                                                                  \n",
      " block_4_expand (Conv2D)        (None, 16, 16, 192)  6144        ['block_3_project_BN[0][0]']     \n",
      "                                                                                                  \n",
      " block_4_expand_BN (BatchNormal  (None, 16, 16, 192)  768        ['block_4_expand[0][0]']         \n",
      " ization)                                                                                         \n",
      "                                                                                                  \n",
      " block_4_expand_relu (ReLU)     (None, 16, 16, 192)  0           ['block_4_expand_BN[0][0]']      \n",
      "                                                                                                  \n",
      " block_4_depthwise (DepthwiseCo  (None, 16, 16, 192)  1728       ['block_4_expand_relu[0][0]']    \n",
      " nv2D)                                                                                            \n",
      "                                                                                                  \n",
      " block_4_depthwise_BN (BatchNor  (None, 16, 16, 192)  768        ['block_4_depthwise[0][0]']      \n",
      " malization)                                                                                      \n",
      "                                                                                                  \n",
      " block_4_depthwise_relu (ReLU)  (None, 16, 16, 192)  0           ['block_4_depthwise_BN[0][0]']   \n",
      "                                                                                                  \n",
      " block_4_project (Conv2D)       (None, 16, 16, 32)   6144        ['block_4_depthwise_relu[0][0]'] \n",
      "                                                                                                  \n",
      " block_4_project_BN (BatchNorma  (None, 16, 16, 32)  128         ['block_4_project[0][0]']        \n",
      " lization)                                                                                        \n",
      "                                                                                                  \n",
      " block_4_add (Add)              (None, 16, 16, 32)   0           ['block_3_project_BN[0][0]',     \n",
      "                                                                  'block_4_project_BN[0][0]']     \n",
      "                                                                                                  \n",
      " block_5_expand (Conv2D)        (None, 16, 16, 192)  6144        ['block_4_add[0][0]']            \n",
      "                                                                                                  \n",
      " block_5_expand_BN (BatchNormal  (None, 16, 16, 192)  768        ['block_5_expand[0][0]']         \n",
      " ization)                                                                                         \n",
      "                                                                                                  \n",
      " block_5_expand_relu (ReLU)     (None, 16, 16, 192)  0           ['block_5_expand_BN[0][0]']      \n",
      "                                                                                                  \n",
      " block_5_depthwise (DepthwiseCo  (None, 16, 16, 192)  1728       ['block_5_expand_relu[0][0]']    \n",
      " nv2D)                                                                                            \n",
      "                                                                                                  \n",
      " block_5_depthwise_BN (BatchNor  (None, 16, 16, 192)  768        ['block_5_depthwise[0][0]']      \n",
      " malization)                                                                                      \n",
      "                                                                                                  \n",
      " block_5_depthwise_relu (ReLU)  (None, 16, 16, 192)  0           ['block_5_depthwise_BN[0][0]']   \n",
      "                                                                                                  \n",
      " block_5_project (Conv2D)       (None, 16, 16, 32)   6144        ['block_5_depthwise_relu[0][0]'] \n",
      "                                                                                                  \n",
      " block_5_project_BN (BatchNorma  (None, 16, 16, 32)  128         ['block_5_project[0][0]']        \n",
      " lization)                                                                                        \n",
      "                                                                                                  \n",
      " block_5_add (Add)              (None, 16, 16, 32)   0           ['block_4_add[0][0]',            \n",
      "                                                                  'block_5_project_BN[0][0]']     \n",
      "                                                                                                  \n",
      " block_6_expand (Conv2D)        (None, 16, 16, 192)  6144        ['block_5_add[0][0]']            \n",
      "                                                                                                  \n",
      " block_6_expand_BN (BatchNormal  (None, 16, 16, 192)  768        ['block_6_expand[0][0]']         \n",
      " ization)                                                                                         \n",
      "                                                                                                  \n",
      " block_6_expand_relu (ReLU)     (None, 16, 16, 192)  0           ['block_6_expand_BN[0][0]']      \n",
      "                                                                                                  \n",
      " block_6_pad (ZeroPadding2D)    (None, 17, 17, 192)  0           ['block_6_expand_relu[0][0]']    \n",
      "                                                                                                  \n",
      " block_6_depthwise (DepthwiseCo  (None, 8, 8, 192)   1728        ['block_6_pad[0][0]']            \n",
      " nv2D)                                                                                            \n",
      "                                                                                                  \n",
      " block_6_depthwise_BN (BatchNor  (None, 8, 8, 192)   768         ['block_6_depthwise[0][0]']      \n",
      " malization)                                                                                      \n",
      "                                                                                                  \n",
      " block_6_depthwise_relu (ReLU)  (None, 8, 8, 192)    0           ['block_6_depthwise_BN[0][0]']   \n",
      "                                                                                                  \n",
      " block_6_project (Conv2D)       (None, 8, 8, 64)     12288       ['block_6_depthwise_relu[0][0]'] \n",
      "                                                                                                  \n",
      " block_6_project_BN (BatchNorma  (None, 8, 8, 64)    256         ['block_6_project[0][0]']        \n",
      " lization)                                                                                        \n",
      "                                                                                                  \n",
      " block_7_expand (Conv2D)        (None, 8, 8, 384)    24576       ['block_6_project_BN[0][0]']     \n"
     ]
    },
    {
     "name": "stdout",
     "output_type": "stream",
     "text": [
      "                                                                                                  \n",
      " block_7_expand_BN (BatchNormal  (None, 8, 8, 384)   1536        ['block_7_expand[0][0]']         \n",
      " ization)                                                                                         \n",
      "                                                                                                  \n",
      " block_7_expand_relu (ReLU)     (None, 8, 8, 384)    0           ['block_7_expand_BN[0][0]']      \n",
      "                                                                                                  \n",
      " block_7_depthwise (DepthwiseCo  (None, 8, 8, 384)   3456        ['block_7_expand_relu[0][0]']    \n",
      " nv2D)                                                                                            \n",
      "                                                                                                  \n",
      " block_7_depthwise_BN (BatchNor  (None, 8, 8, 384)   1536        ['block_7_depthwise[0][0]']      \n",
      " malization)                                                                                      \n",
      "                                                                                                  \n",
      " block_7_depthwise_relu (ReLU)  (None, 8, 8, 384)    0           ['block_7_depthwise_BN[0][0]']   \n",
      "                                                                                                  \n",
      " block_7_project (Conv2D)       (None, 8, 8, 64)     24576       ['block_7_depthwise_relu[0][0]'] \n",
      "                                                                                                  \n",
      " block_7_project_BN (BatchNorma  (None, 8, 8, 64)    256         ['block_7_project[0][0]']        \n",
      " lization)                                                                                        \n",
      "                                                                                                  \n",
      " block_7_add (Add)              (None, 8, 8, 64)     0           ['block_6_project_BN[0][0]',     \n",
      "                                                                  'block_7_project_BN[0][0]']     \n",
      "                                                                                                  \n",
      " block_8_expand (Conv2D)        (None, 8, 8, 384)    24576       ['block_7_add[0][0]']            \n",
      "                                                                                                  \n",
      " block_8_expand_BN (BatchNormal  (None, 8, 8, 384)   1536        ['block_8_expand[0][0]']         \n",
      " ization)                                                                                         \n",
      "                                                                                                  \n",
      " block_8_expand_relu (ReLU)     (None, 8, 8, 384)    0           ['block_8_expand_BN[0][0]']      \n",
      "                                                                                                  \n",
      " block_8_depthwise (DepthwiseCo  (None, 8, 8, 384)   3456        ['block_8_expand_relu[0][0]']    \n",
      " nv2D)                                                                                            \n",
      "                                                                                                  \n",
      " block_8_depthwise_BN (BatchNor  (None, 8, 8, 384)   1536        ['block_8_depthwise[0][0]']      \n",
      " malization)                                                                                      \n",
      "                                                                                                  \n",
      " block_8_depthwise_relu (ReLU)  (None, 8, 8, 384)    0           ['block_8_depthwise_BN[0][0]']   \n",
      "                                                                                                  \n",
      " block_8_project (Conv2D)       (None, 8, 8, 64)     24576       ['block_8_depthwise_relu[0][0]'] \n",
      "                                                                                                  \n",
      " block_8_project_BN (BatchNorma  (None, 8, 8, 64)    256         ['block_8_project[0][0]']        \n",
      " lization)                                                                                        \n",
      "                                                                                                  \n",
      " block_8_add (Add)              (None, 8, 8, 64)     0           ['block_7_add[0][0]',            \n",
      "                                                                  'block_8_project_BN[0][0]']     \n",
      "                                                                                                  \n",
      " block_9_expand (Conv2D)        (None, 8, 8, 384)    24576       ['block_8_add[0][0]']            \n",
      "                                                                                                  \n",
      " block_9_expand_BN (BatchNormal  (None, 8, 8, 384)   1536        ['block_9_expand[0][0]']         \n",
      " ization)                                                                                         \n",
      "                                                                                                  \n",
      " block_9_expand_relu (ReLU)     (None, 8, 8, 384)    0           ['block_9_expand_BN[0][0]']      \n",
      "                                                                                                  \n",
      " block_9_depthwise (DepthwiseCo  (None, 8, 8, 384)   3456        ['block_9_expand_relu[0][0]']    \n",
      " nv2D)                                                                                            \n",
      "                                                                                                  \n",
      " block_9_depthwise_BN (BatchNor  (None, 8, 8, 384)   1536        ['block_9_depthwise[0][0]']      \n",
      " malization)                                                                                      \n",
      "                                                                                                  \n",
      " block_9_depthwise_relu (ReLU)  (None, 8, 8, 384)    0           ['block_9_depthwise_BN[0][0]']   \n",
      "                                                                                                  \n",
      " block_9_project (Conv2D)       (None, 8, 8, 64)     24576       ['block_9_depthwise_relu[0][0]'] \n",
      "                                                                                                  \n",
      " block_9_project_BN (BatchNorma  (None, 8, 8, 64)    256         ['block_9_project[0][0]']        \n",
      " lization)                                                                                        \n",
      "                                                                                                  \n",
      " block_9_add (Add)              (None, 8, 8, 64)     0           ['block_8_add[0][0]',            \n",
      "                                                                  'block_9_project_BN[0][0]']     \n",
      "                                                                                                  \n",
      " block_10_expand (Conv2D)       (None, 8, 8, 384)    24576       ['block_9_add[0][0]']            \n",
      "                                                                                                  \n",
      " block_10_expand_BN (BatchNorma  (None, 8, 8, 384)   1536        ['block_10_expand[0][0]']        \n",
      " lization)                                                                                        \n",
      "                                                                                                  \n",
      " block_10_expand_relu (ReLU)    (None, 8, 8, 384)    0           ['block_10_expand_BN[0][0]']     \n",
      "                                                                                                  \n",
      " block_10_depthwise (DepthwiseC  (None, 8, 8, 384)   3456        ['block_10_expand_relu[0][0]']   \n",
      " onv2D)                                                                                           \n",
      "                                                                                                  \n",
      " block_10_depthwise_BN (BatchNo  (None, 8, 8, 384)   1536        ['block_10_depthwise[0][0]']     \n",
      " rmalization)                                                                                     \n",
      "                                                                                                  \n",
      " block_10_depthwise_relu (ReLU)  (None, 8, 8, 384)   0           ['block_10_depthwise_BN[0][0]']  \n",
      "                                                                                                  \n"
     ]
    },
    {
     "name": "stdout",
     "output_type": "stream",
     "text": [
      " block_10_project (Conv2D)      (None, 8, 8, 96)     36864       ['block_10_depthwise_relu[0][0]']\n",
      "                                                                                                  \n",
      " block_10_project_BN (BatchNorm  (None, 8, 8, 96)    384         ['block_10_project[0][0]']       \n",
      " alization)                                                                                       \n",
      "                                                                                                  \n",
      " block_11_expand (Conv2D)       (None, 8, 8, 576)    55296       ['block_10_project_BN[0][0]']    \n",
      "                                                                                                  \n",
      " block_11_expand_BN (BatchNorma  (None, 8, 8, 576)   2304        ['block_11_expand[0][0]']        \n",
      " lization)                                                                                        \n",
      "                                                                                                  \n",
      " block_11_expand_relu (ReLU)    (None, 8, 8, 576)    0           ['block_11_expand_BN[0][0]']     \n",
      "                                                                                                  \n",
      " block_11_depthwise (DepthwiseC  (None, 8, 8, 576)   5184        ['block_11_expand_relu[0][0]']   \n",
      " onv2D)                                                                                           \n",
      "                                                                                                  \n",
      " block_11_depthwise_BN (BatchNo  (None, 8, 8, 576)   2304        ['block_11_depthwise[0][0]']     \n",
      " rmalization)                                                                                     \n",
      "                                                                                                  \n",
      " block_11_depthwise_relu (ReLU)  (None, 8, 8, 576)   0           ['block_11_depthwise_BN[0][0]']  \n",
      "                                                                                                  \n",
      " block_11_project (Conv2D)      (None, 8, 8, 96)     55296       ['block_11_depthwise_relu[0][0]']\n",
      "                                                                                                  \n",
      " block_11_project_BN (BatchNorm  (None, 8, 8, 96)    384         ['block_11_project[0][0]']       \n",
      " alization)                                                                                       \n",
      "                                                                                                  \n",
      " block_11_add (Add)             (None, 8, 8, 96)     0           ['block_10_project_BN[0][0]',    \n",
      "                                                                  'block_11_project_BN[0][0]']    \n",
      "                                                                                                  \n",
      " block_12_expand (Conv2D)       (None, 8, 8, 576)    55296       ['block_11_add[0][0]']           \n",
      "                                                                                                  \n",
      " block_12_expand_BN (BatchNorma  (None, 8, 8, 576)   2304        ['block_12_expand[0][0]']        \n",
      " lization)                                                                                        \n",
      "                                                                                                  \n",
      " block_12_expand_relu (ReLU)    (None, 8, 8, 576)    0           ['block_12_expand_BN[0][0]']     \n",
      "                                                                                                  \n",
      " block_12_depthwise (DepthwiseC  (None, 8, 8, 576)   5184        ['block_12_expand_relu[0][0]']   \n",
      " onv2D)                                                                                           \n",
      "                                                                                                  \n",
      " block_12_depthwise_BN (BatchNo  (None, 8, 8, 576)   2304        ['block_12_depthwise[0][0]']     \n",
      " rmalization)                                                                                     \n",
      "                                                                                                  \n",
      " block_12_depthwise_relu (ReLU)  (None, 8, 8, 576)   0           ['block_12_depthwise_BN[0][0]']  \n",
      "                                                                                                  \n",
      " block_12_project (Conv2D)      (None, 8, 8, 96)     55296       ['block_12_depthwise_relu[0][0]']\n",
      "                                                                                                  \n",
      " block_12_project_BN (BatchNorm  (None, 8, 8, 96)    384         ['block_12_project[0][0]']       \n",
      " alization)                                                                                       \n",
      "                                                                                                  \n",
      " block_12_add (Add)             (None, 8, 8, 96)     0           ['block_11_add[0][0]',           \n",
      "                                                                  'block_12_project_BN[0][0]']    \n",
      "                                                                                                  \n",
      " block_13_expand (Conv2D)       (None, 8, 8, 576)    55296       ['block_12_add[0][0]']           \n",
      "                                                                                                  \n",
      " block_13_expand_BN (BatchNorma  (None, 8, 8, 576)   2304        ['block_13_expand[0][0]']        \n",
      " lization)                                                                                        \n",
      "                                                                                                  \n",
      " block_13_expand_relu (ReLU)    (None, 8, 8, 576)    0           ['block_13_expand_BN[0][0]']     \n",
      "                                                                                                  \n",
      " block_13_pad (ZeroPadding2D)   (None, 9, 9, 576)    0           ['block_13_expand_relu[0][0]']   \n",
      "                                                                                                  \n",
      " block_13_depthwise (DepthwiseC  (None, 4, 4, 576)   5184        ['block_13_pad[0][0]']           \n",
      " onv2D)                                                                                           \n",
      "                                                                                                  \n",
      " block_13_depthwise_BN (BatchNo  (None, 4, 4, 576)   2304        ['block_13_depthwise[0][0]']     \n",
      " rmalization)                                                                                     \n",
      "                                                                                                  \n",
      " block_13_depthwise_relu (ReLU)  (None, 4, 4, 576)   0           ['block_13_depthwise_BN[0][0]']  \n",
      "                                                                                                  \n",
      " block_13_project (Conv2D)      (None, 4, 4, 160)    92160       ['block_13_depthwise_relu[0][0]']\n",
      "                                                                                                  \n",
      " block_13_project_BN (BatchNorm  (None, 4, 4, 160)   640         ['block_13_project[0][0]']       \n",
      " alization)                                                                                       \n",
      "                                                                                                  \n",
      " block_14_expand (Conv2D)       (None, 4, 4, 960)    153600      ['block_13_project_BN[0][0]']    \n",
      "                                                                                                  \n",
      " block_14_expand_BN (BatchNorma  (None, 4, 4, 960)   3840        ['block_14_expand[0][0]']        \n",
      " lization)                                                                                        \n",
      "                                                                                                  \n",
      " block_14_expand_relu (ReLU)    (None, 4, 4, 960)    0           ['block_14_expand_BN[0][0]']     \n",
      "                                                                                                  \n",
      " block_14_depthwise (DepthwiseC  (None, 4, 4, 960)   8640        ['block_14_expand_relu[0][0]']   \n",
      " onv2D)                                                                                           \n",
      "                                                                                                  \n"
     ]
    },
    {
     "name": "stdout",
     "output_type": "stream",
     "text": [
      " block_14_depthwise_BN (BatchNo  (None, 4, 4, 960)   3840        ['block_14_depthwise[0][0]']     \n",
      " rmalization)                                                                                     \n",
      "                                                                                                  \n",
      " block_14_depthwise_relu (ReLU)  (None, 4, 4, 960)   0           ['block_14_depthwise_BN[0][0]']  \n",
      "                                                                                                  \n",
      " block_14_project (Conv2D)      (None, 4, 4, 160)    153600      ['block_14_depthwise_relu[0][0]']\n",
      "                                                                                                  \n",
      " block_14_project_BN (BatchNorm  (None, 4, 4, 160)   640         ['block_14_project[0][0]']       \n",
      " alization)                                                                                       \n",
      "                                                                                                  \n",
      " block_14_add (Add)             (None, 4, 4, 160)    0           ['block_13_project_BN[0][0]',    \n",
      "                                                                  'block_14_project_BN[0][0]']    \n",
      "                                                                                                  \n",
      " block_15_expand (Conv2D)       (None, 4, 4, 960)    153600      ['block_14_add[0][0]']           \n",
      "                                                                                                  \n",
      " block_15_expand_BN (BatchNorma  (None, 4, 4, 960)   3840        ['block_15_expand[0][0]']        \n",
      " lization)                                                                                        \n",
      "                                                                                                  \n",
      " block_15_expand_relu (ReLU)    (None, 4, 4, 960)    0           ['block_15_expand_BN[0][0]']     \n",
      "                                                                                                  \n",
      " block_15_depthwise (DepthwiseC  (None, 4, 4, 960)   8640        ['block_15_expand_relu[0][0]']   \n",
      " onv2D)                                                                                           \n",
      "                                                                                                  \n",
      " block_15_depthwise_BN (BatchNo  (None, 4, 4, 960)   3840        ['block_15_depthwise[0][0]']     \n",
      " rmalization)                                                                                     \n",
      "                                                                                                  \n",
      " block_15_depthwise_relu (ReLU)  (None, 4, 4, 960)   0           ['block_15_depthwise_BN[0][0]']  \n",
      "                                                                                                  \n",
      " block_15_project (Conv2D)      (None, 4, 4, 160)    153600      ['block_15_depthwise_relu[0][0]']\n",
      "                                                                                                  \n",
      " block_15_project_BN (BatchNorm  (None, 4, 4, 160)   640         ['block_15_project[0][0]']       \n",
      " alization)                                                                                       \n",
      "                                                                                                  \n",
      " block_15_add (Add)             (None, 4, 4, 160)    0           ['block_14_add[0][0]',           \n",
      "                                                                  'block_15_project_BN[0][0]']    \n",
      "                                                                                                  \n",
      " block_16_expand (Conv2D)       (None, 4, 4, 960)    153600      ['block_15_add[0][0]']           \n",
      "                                                                                                  \n",
      " block_16_expand_BN (BatchNorma  (None, 4, 4, 960)   3840        ['block_16_expand[0][0]']        \n",
      " lization)                                                                                        \n",
      "                                                                                                  \n",
      " block_16_expand_relu (ReLU)    (None, 4, 4, 960)    0           ['block_16_expand_BN[0][0]']     \n",
      "                                                                                                  \n",
      " block_16_depthwise (DepthwiseC  (None, 4, 4, 960)   8640        ['block_16_expand_relu[0][0]']   \n",
      " onv2D)                                                                                           \n",
      "                                                                                                  \n",
      " block_16_depthwise_BN (BatchNo  (None, 4, 4, 960)   3840        ['block_16_depthwise[0][0]']     \n",
      " rmalization)                                                                                     \n",
      "                                                                                                  \n",
      " block_16_depthwise_relu (ReLU)  (None, 4, 4, 960)   0           ['block_16_depthwise_BN[0][0]']  \n",
      "                                                                                                  \n",
      " block_16_project (Conv2D)      (None, 4, 4, 320)    307200      ['block_16_depthwise_relu[0][0]']\n",
      "                                                                                                  \n",
      " block_16_project_BN (BatchNorm  (None, 4, 4, 320)   1280        ['block_16_project[0][0]']       \n",
      " alization)                                                                                       \n",
      "                                                                                                  \n",
      " Conv_1 (Conv2D)                (None, 4, 4, 1280)   409600      ['block_16_project_BN[0][0]']    \n",
      "                                                                                                  \n",
      " Conv_1_bn (BatchNormalization)  (None, 4, 4, 1280)  5120        ['Conv_1[0][0]']                 \n",
      "                                                                                                  \n",
      " out_relu (ReLU)                (None, 4, 4, 1280)   0           ['Conv_1_bn[0][0]']              \n",
      "                                                                                                  \n",
      " global_average_pooling2d (Glob  (None, 1280)        0           ['out_relu[0][0]']               \n",
      " alAveragePooling2D)                                                                              \n",
      "                                                                                                  \n",
      " dense (Dense)                  (None, 1)            1281        ['global_average_pooling2d[0][0]'\n",
      "                                                                 ]                                \n",
      "                                                                                                  \n",
      "==================================================================================================\n",
      "Total params: 2,259,265\n",
      "Trainable params: 1,281\n",
      "Non-trainable params: 2,257,984\n",
      "__________________________________________________________________________________________________\n"
     ]
    }
   ],
   "source": [
    "epochs = 50\n",
    "\n",
    "from keras import regularizers\n",
    "kernel_regularizer = regularizers.l2(0.0001)\n",
    "\n",
    "from keras.applications.mobilenet_v2 import MobileNetV2\n",
    "\n",
    "def load_layers():\n",
    "    input_tensor = Input(shape=(IMG_SIZE, IMG_SIZE, ColorChannels))\n",
    "    baseModel = MobileNetV2(pooling='avg',\n",
    "                            include_top=False, \n",
    "                            input_tensor=input_tensor)\n",
    "    \n",
    "    headModel = baseModel.output   \n",
    "    headModel = Dense(1, activation=\"sigmoid\")(headModel)\n",
    "    model = Model(inputs=baseModel.input, outputs=headModel)\n",
    "\n",
    "    for layer in baseModel.layers:\n",
    "        layer.trainable = False\n",
    "\n",
    "    print(\"Compiling model...\")\n",
    "    model.compile(loss=\"binary_crossentropy\",\n",
    "                    optimizer='adam',\n",
    "                    metrics=[\"accuracy\"])\n",
    "\n",
    "    return model\n",
    "\n",
    "if TPU_INIT:\n",
    "    with tpu_strategy.scope():\n",
    "        model = load_layers()\n",
    "else:\n",
    "    model = load_layers()\n",
    "\n",
    "model.summary()"
   ]
  },
  {
   "cell_type": "code",
   "execution_count": null,
   "metadata": {
    "execution": {
     "iopub.execute_input": "2021-06-28T21:19:22.163129Z",
     "iopub.status.busy": "2021-06-28T21:19:22.162673Z",
     "iopub.status.idle": "2021-06-28T21:19:22.176337Z",
     "shell.execute_reply": "2021-06-28T21:19:22.175519Z",
     "shell.execute_reply.started": "2021-06-28T21:19:22.163083Z"
    },
    "id": "Ot4-s-9rLwF4"
   },
   "outputs": [],
   "source": [
    "from tensorflow.keras.callbacks import Callback, ModelCheckpoint, LearningRateScheduler, TensorBoard, EarlyStopping, ReduceLROnPlateau\n",
    "\n",
    "patience = 3\n",
    "\n",
    "start_lr = 0.00001\n",
    "min_lr = 0.00001\n",
    "max_lr = 0.00005\n",
    "\n",
    "batch_size = 4\n",
    "\n",
    "if TPU_INIT:\n",
    "    max_lr = max_lr * tpu_strategy.num_replicas_in_sync\n",
    "    batch_size = batch_size * tpu_strategy.num_replicas_in_sync\n",
    "\n",
    "rampup_epochs = 5\n",
    "sustain_epochs = 0\n",
    "exp_decay = .8\n",
    "\n",
    "def lrfn(epoch):\n",
    "    if epoch < rampup_epochs:\n",
    "        return (max_lr - start_lr)/rampup_epochs * epoch + start_lr\n",
    "    elif epoch < rampup_epochs + sustain_epochs:\n",
    "        return max_lr\n",
    "    else:\n",
    "        return (max_lr - min_lr) * exp_decay**(epoch-rampup_epochs-sustain_epochs) + min_lr\n",
    "\n",
    "\n",
    "class myCallback(Callback):\n",
    "    def on_epoch_end(self, epoch, logs={}):\n",
    "        if ((logs.get('accuracy')>=0.999)):\n",
    "            print(\"\\nLimits Reached cancelling training!\")\n",
    "            self.model.stop_training = True"
   ]
  },
  {
   "cell_type": "code",
   "execution_count": null,
   "metadata": {
    "execution": {
     "iopub.execute_input": "2021-06-28T21:19:28.031571Z",
     "iopub.status.busy": "2021-06-28T21:19:28.031227Z",
     "iopub.status.idle": "2021-06-28T21:19:28.388810Z",
     "shell.execute_reply": "2021-06-28T21:19:28.387749Z",
     "shell.execute_reply.started": "2021-06-28T21:19:28.031539Z"
    },
    "id": "-OB5GFdDsIAD"
   },
   "outputs": [],
   "source": [
    "end_callback = myCallback()\n",
    "\n",
    "lr_callback = LearningRateScheduler(lambda epoch: lrfn(epoch), verbose=False)\n",
    "\n",
    "early_stopping = EarlyStopping(patience = patience, monitor='val_loss',\n",
    "                                 mode='min', restore_best_weights=True, \n",
    "                                 verbose = 1, min_delta = .00075)\n",
    "\n",
    "PROJECT_DIR = MyDrive + '/RiskDetection'\n",
    "\n",
    "lr_plat = ReduceLROnPlateau(patience = 2, mode = 'min')\n",
    "\n",
    "os.system('rm -rf ./logs/')\n",
    "\n",
    "import datetime\n",
    "log_dir=\"logs/fit/\" + datetime.datetime.now().strftime(\"%Y%m%d-%H%M%S\")\n",
    "tensorboard_callback = TensorBoard(log_dir = log_dir, write_graph=True, histogram_freq=1)\n",
    "\n",
    "checkpoint_filepath = 'ModelWeights.h5'\n",
    "\n",
    "model_checkpoints = ModelCheckpoint(filepath=checkpoint_filepath,\n",
    "                                        save_weights_only=True,\n",
    "                                        monitor='val_loss',\n",
    "                                        mode='min',\n",
    "                                        verbose = 1,\n",
    "                                        save_best_only=True)\n",
    "\n",
    "\n",
    "callbacks = [end_callback, lr_callback, model_checkpoints, tensorboard_callback, early_stopping, lr_plat]\n",
    "\n",
    "if TPU_INIT:\n",
    "    callbacks = [end_callback, lr_callback, model_checkpoints, early_stopping, lr_plat]"
   ]
  },
  {
   "cell_type": "code",
   "execution_count": null,
   "metadata": {
    "_kg_hide-output": false,
    "execution": {
     "iopub.execute_input": "2021-06-28T21:19:34.188325Z",
     "iopub.status.busy": "2021-06-28T21:19:34.187954Z",
     "iopub.status.idle": "2021-06-28T21:40:04.073914Z",
     "shell.execute_reply": "2021-06-28T21:40:04.073018Z",
     "shell.execute_reply.started": "2021-06-28T21:19:34.188280Z"
    },
    "id": "MDFpuPolFYRc",
    "outputId": "ea444b27-b899-46b5-cc59-fe9ba7de6c9a"
   },
   "outputs": [
    {
     "name": "stdout",
     "output_type": "stream",
     "text": [
      "Training head...\n",
      "Epoch 1/50\n",
      "2447/2447 [==============================] - ETA: 0s - loss: 0.7795 - accuracy: 0.5699\n",
      "Epoch 1: val_loss improved from inf to 0.67708, saving model to ModelWeights.h5\n",
      "2447/2447 [==============================] - 74s 28ms/step - loss: 0.7795 - accuracy: 0.5699 - val_loss: 0.6771 - val_accuracy: 0.6342 - lr: 1.0000e-05\n",
      "Epoch 2/50\n",
      "2444/2447 [============================>.] - ETA: 0s - loss: 0.5493 - accuracy: 0.7213\n",
      "Epoch 2: val_loss improved from 0.67708 to 0.47265, saving model to ModelWeights.h5\n",
      "2447/2447 [==============================] - 65s 27ms/step - loss: 0.5495 - accuracy: 0.7212 - val_loss: 0.4727 - val_accuracy: 0.7752 - lr: 1.8000e-05\n",
      "Epoch 3/50\n",
      "2445/2447 [============================>.] - ETA: 0s - loss: 0.4026 - accuracy: 0.8244\n",
      "Epoch 3: val_loss improved from 0.47265 to 0.35867, saving model to ModelWeights.h5\n",
      "2447/2447 [==============================] - 67s 27ms/step - loss: 0.4025 - accuracy: 0.8244 - val_loss: 0.3587 - val_accuracy: 0.8488 - lr: 2.6000e-05\n",
      "Epoch 4/50\n",
      "2445/2447 [============================>.] - ETA: 0s - loss: 0.3201 - accuracy: 0.8680\n",
      "Epoch 4: val_loss improved from 0.35867 to 0.30024, saving model to ModelWeights.h5\n",
      "2447/2447 [==============================] - 66s 27ms/step - loss: 0.3203 - accuracy: 0.8679 - val_loss: 0.3002 - val_accuracy: 0.8841 - lr: 3.4000e-05\n",
      "Epoch 5/50\n",
      "2445/2447 [============================>.] - ETA: 0s - loss: 0.2705 - accuracy: 0.8911\n",
      "Epoch 5: val_loss improved from 0.30024 to 0.26215, saving model to ModelWeights.h5\n",
      "2447/2447 [==============================] - 65s 27ms/step - loss: 0.2704 - accuracy: 0.8912 - val_loss: 0.2621 - val_accuracy: 0.9001 - lr: 4.2000e-05\n",
      "Epoch 6/50\n",
      "2447/2447 [==============================] - ETA: 0s - loss: 0.2364 - accuracy: 0.9066\n",
      "Epoch 6: val_loss improved from 0.26215 to 0.23749, saving model to ModelWeights.h5\n",
      "2447/2447 [==============================] - 65s 27ms/step - loss: 0.2364 - accuracy: 0.9066 - val_loss: 0.2375 - val_accuracy: 0.9092 - lr: 5.0000e-05\n",
      "Epoch 7/50\n",
      "2445/2447 [============================>.] - ETA: 0s - loss: 0.2132 - accuracy: 0.9186\n",
      "Epoch 7: val_loss improved from 0.23749 to 0.22191, saving model to ModelWeights.h5\n",
      "2447/2447 [==============================] - 65s 26ms/step - loss: 0.2132 - accuracy: 0.9185 - val_loss: 0.2219 - val_accuracy: 0.9151 - lr: 4.2000e-05\n",
      "Epoch 8/50\n",
      "2445/2447 [============================>.] - ETA: 0s - loss: 0.1988 - accuracy: 0.9248\n",
      "Epoch 8: val_loss improved from 0.22191 to 0.21268, saving model to ModelWeights.h5\n",
      "2447/2447 [==============================] - 66s 27ms/step - loss: 0.1988 - accuracy: 0.9248 - val_loss: 0.2127 - val_accuracy: 0.9213 - lr: 3.5600e-05\n",
      "Epoch 9/50\n",
      "2447/2447 [==============================] - ETA: 0s - loss: 0.1886 - accuracy: 0.9300\n",
      "Epoch 9: val_loss improved from 0.21268 to 0.20634, saving model to ModelWeights.h5\n",
      "2447/2447 [==============================] - 65s 27ms/step - loss: 0.1886 - accuracy: 0.9300 - val_loss: 0.2063 - val_accuracy: 0.9213 - lr: 3.0480e-05\n",
      "Epoch 10/50\n",
      "2446/2447 [============================>.] - ETA: 0s - loss: 0.1811 - accuracy: 0.9345\n",
      "Epoch 10: val_loss improved from 0.20634 to 0.20094, saving model to ModelWeights.h5\n",
      "2447/2447 [==============================] - 65s 26ms/step - loss: 0.1811 - accuracy: 0.9345 - val_loss: 0.2009 - val_accuracy: 0.9256 - lr: 2.6384e-05\n",
      "Epoch 11/50\n",
      "2447/2447 [==============================] - ETA: 0s - loss: 0.1752 - accuracy: 0.9358\n",
      "Epoch 11: val_loss improved from 0.20094 to 0.19669, saving model to ModelWeights.h5\n",
      "2447/2447 [==============================] - 65s 27ms/step - loss: 0.1752 - accuracy: 0.9358 - val_loss: 0.1967 - val_accuracy: 0.9249 - lr: 2.3107e-05\n",
      "Epoch 12/50\n",
      "2446/2447 [============================>.] - ETA: 0s - loss: 0.1706 - accuracy: 0.9394\n",
      "Epoch 12: val_loss improved from 0.19669 to 0.19441, saving model to ModelWeights.h5\n",
      "2447/2447 [==============================] - 65s 26ms/step - loss: 0.1706 - accuracy: 0.9394 - val_loss: 0.1944 - val_accuracy: 0.9254 - lr: 2.0486e-05\n",
      "Epoch 13/50\n",
      "2445/2447 [============================>.] - ETA: 0s - loss: 0.1669 - accuracy: 0.9420\n",
      "Epoch 13: val_loss improved from 0.19441 to 0.19063, saving model to ModelWeights.h5\n",
      "2447/2447 [==============================] - 66s 27ms/step - loss: 0.1669 - accuracy: 0.9420 - val_loss: 0.1906 - val_accuracy: 0.9270 - lr: 1.8389e-05\n",
      "Epoch 14/50\n",
      "2444/2447 [============================>.] - ETA: 0s - loss: 0.1636 - accuracy: 0.9431\n",
      "Epoch 14: val_loss improved from 0.19063 to 0.18837, saving model to ModelWeights.h5\n",
      "2447/2447 [==============================] - 65s 27ms/step - loss: 0.1637 - accuracy: 0.9430 - val_loss: 0.1884 - val_accuracy: 0.9280 - lr: 1.6711e-05\n",
      "Epoch 15/50\n",
      "2444/2447 [============================>.] - ETA: 0s - loss: 0.1608 - accuracy: 0.9435\n",
      "Epoch 15: val_loss improved from 0.18837 to 0.18647, saving model to ModelWeights.h5\n",
      "2447/2447 [==============================] - 66s 27ms/step - loss: 0.1608 - accuracy: 0.9436 - val_loss: 0.1865 - val_accuracy: 0.9289 - lr: 1.5369e-05\n",
      "Epoch 16/50\n",
      "2446/2447 [============================>.] - ETA: 0s - loss: 0.1584 - accuracy: 0.9447\n",
      "Epoch 16: val_loss improved from 0.18647 to 0.18458, saving model to ModelWeights.h5\n",
      "2447/2447 [==============================] - 65s 27ms/step - loss: 0.1584 - accuracy: 0.9447 - val_loss: 0.1846 - val_accuracy: 0.9280 - lr: 1.4295e-05\n",
      "Epoch 17/50\n",
      "2445/2447 [============================>.] - ETA: 0s - loss: 0.1563 - accuracy: 0.9455\n",
      "Epoch 17: val_loss improved from 0.18458 to 0.18301, saving model to ModelWeights.h5\n",
      "2447/2447 [==============================] - 65s 27ms/step - loss: 0.1564 - accuracy: 0.9454 - val_loss: 0.1830 - val_accuracy: 0.9294 - lr: 1.3436e-05\n",
      "Epoch 18/50\n",
      "2445/2447 [============================>.] - ETA: 0s - loss: 0.1543 - accuracy: 0.9464\n",
      "Epoch 18: val_loss improved from 0.18301 to 0.18163, saving model to ModelWeights.h5\n",
      "2447/2447 [==============================] - 65s 27ms/step - loss: 0.1543 - accuracy: 0.9464 - val_loss: 0.1816 - val_accuracy: 0.9306 - lr: 1.2749e-05\n",
      "Epoch 19/50\n",
      "2445/2447 [============================>.] - ETA: 0s - loss: 0.1527 - accuracy: 0.9480\n",
      "Epoch 19: val_loss improved from 0.18163 to 0.18024, saving model to ModelWeights.h5\n",
      "2447/2447 [==============================] - 65s 27ms/step - loss: 0.1526 - accuracy: 0.9480 - val_loss: 0.1802 - val_accuracy: 0.9306 - lr: 1.2199e-05\n",
      "Epoch 20/50\n",
      "2445/2447 [============================>.] - ETA: 0s - loss: 0.1510 - accuracy: 0.9486\n",
      "Epoch 20: val_loss improved from 0.18024 to 0.17901, saving model to ModelWeights.h5\n",
      "2447/2447 [==============================] - 65s 27ms/step - loss: 0.1510 - accuracy: 0.9486 - val_loss: 0.1790 - val_accuracy: 0.9311 - lr: 1.1759e-05\n",
      "Epoch 21/50\n",
      "2444/2447 [============================>.] - ETA: 0s - loss: 0.1495 - accuracy: 0.9486\n",
      "Epoch 21: val_loss improved from 0.17901 to 0.17781, saving model to ModelWeights.h5\n",
      "2447/2447 [==============================] - 65s 26ms/step - loss: 0.1495 - accuracy: 0.9487 - val_loss: 0.1778 - val_accuracy: 0.9316 - lr: 1.1407e-05\n",
      "Epoch 22/50\n",
      "2444/2447 [============================>.] - ETA: 0s - loss: 0.1481 - accuracy: 0.9491\n",
      "Epoch 22: val_loss improved from 0.17781 to 0.17683, saving model to ModelWeights.h5\n",
      "2447/2447 [==============================] - 64s 26ms/step - loss: 0.1481 - accuracy: 0.9490 - val_loss: 0.1768 - val_accuracy: 0.9318 - lr: 1.1126e-05\n",
      "Epoch 23/50\n",
      "2446/2447 [============================>.] - ETA: 0s - loss: 0.1466 - accuracy: 0.9496\n",
      "Epoch 23: val_loss improved from 0.17683 to 0.17573, saving model to ModelWeights.h5\n",
      "2447/2447 [==============================] - 65s 27ms/step - loss: 0.1466 - accuracy: 0.9496 - val_loss: 0.1757 - val_accuracy: 0.9318 - lr: 1.0901e-05\n",
      "Epoch 24/50\n",
      "2446/2447 [============================>.] - ETA: 0s - loss: 0.1453 - accuracy: 0.9498\n",
      "Epoch 24: val_loss improved from 0.17573 to 0.17481, saving model to ModelWeights.h5\n",
      "2447/2447 [==============================] - 66s 27ms/step - loss: 0.1453 - accuracy: 0.9498 - val_loss: 0.1748 - val_accuracy: 0.9325 - lr: 1.0721e-05\n",
      "Epoch 25/50\n",
      "2445/2447 [============================>.] - ETA: 0s - loss: 0.1442 - accuracy: 0.9503\n",
      "Epoch 25: val_loss improved from 0.17481 to 0.17389, saving model to ModelWeights.h5\n"
     ]
    },
    {
     "name": "stdout",
     "output_type": "stream",
     "text": [
      "2447/2447 [==============================] - 66s 27ms/step - loss: 0.1442 - accuracy: 0.9503 - val_loss: 0.1739 - val_accuracy: 0.9325 - lr: 1.0576e-05\n",
      "Epoch 26/50\n",
      "2445/2447 [============================>.] - ETA: 0s - loss: 0.1430 - accuracy: 0.9510\n",
      "Epoch 26: val_loss improved from 0.17389 to 0.17291, saving model to ModelWeights.h5\n",
      "2447/2447 [==============================] - 65s 27ms/step - loss: 0.1429 - accuracy: 0.9510 - val_loss: 0.1729 - val_accuracy: 0.9340 - lr: 1.0461e-05\n",
      "Epoch 27/50\n",
      "2447/2447 [==============================] - ETA: 0s - loss: 0.1418 - accuracy: 0.9511\n",
      "Epoch 27: val_loss improved from 0.17291 to 0.17204, saving model to ModelWeights.h5\n",
      "2447/2447 [==============================] - 66s 27ms/step - loss: 0.1418 - accuracy: 0.9511 - val_loss: 0.1720 - val_accuracy: 0.9344 - lr: 1.0369e-05\n",
      "Epoch 28/50\n",
      "2446/2447 [============================>.] - ETA: 0s - loss: 0.1407 - accuracy: 0.9521\n",
      "Epoch 28: val_loss improved from 0.17204 to 0.17154, saving model to ModelWeights.h5\n",
      "2447/2447 [==============================] - 65s 27ms/step - loss: 0.1407 - accuracy: 0.9521 - val_loss: 0.1715 - val_accuracy: 0.9342 - lr: 1.0295e-05\n",
      "Epoch 29/50\n",
      "2445/2447 [============================>.] - ETA: 0s - loss: 0.1397 - accuracy: 0.9520\n",
      "Epoch 29: val_loss improved from 0.17154 to 0.17042, saving model to ModelWeights.h5\n",
      "2447/2447 [==============================] - 65s 26ms/step - loss: 0.1396 - accuracy: 0.9521 - val_loss: 0.1704 - val_accuracy: 0.9349 - lr: 1.0236e-05\n",
      "Epoch 30/50\n",
      "2445/2447 [============================>.] - ETA: 0s - loss: 0.1383 - accuracy: 0.9526\n",
      "Epoch 30: val_loss improved from 0.17042 to 0.16962, saving model to ModelWeights.h5\n",
      "2447/2447 [==============================] - 66s 27ms/step - loss: 0.1387 - accuracy: 0.9523 - val_loss: 0.1696 - val_accuracy: 0.9351 - lr: 1.0189e-05\n",
      "Epoch 31/50\n",
      "2444/2447 [============================>.] - ETA: 0s - loss: 0.1375 - accuracy: 0.9522\n",
      "Epoch 31: val_loss improved from 0.16962 to 0.16886, saving model to ModelWeights.h5\n",
      "2447/2447 [==============================] - 65s 27ms/step - loss: 0.1375 - accuracy: 0.9522 - val_loss: 0.1689 - val_accuracy: 0.9356 - lr: 1.0151e-05\n",
      "Epoch 32/50\n",
      "2446/2447 [============================>.] - ETA: 0s - loss: 0.1366 - accuracy: 0.9539\n",
      "Epoch 32: val_loss improved from 0.16886 to 0.16810, saving model to ModelWeights.h5\n",
      "2447/2447 [==============================] - 65s 27ms/step - loss: 0.1366 - accuracy: 0.9539 - val_loss: 0.1681 - val_accuracy: 0.9354 - lr: 1.0121e-05\n",
      "Epoch 33/50\n",
      "2445/2447 [============================>.] - ETA: 0s - loss: 0.1356 - accuracy: 0.9533\n",
      "Epoch 33: val_loss improved from 0.16810 to 0.16742, saving model to ModelWeights.h5\n",
      "2447/2447 [==============================] - 65s 26ms/step - loss: 0.1356 - accuracy: 0.9533 - val_loss: 0.1674 - val_accuracy: 0.9359 - lr: 1.0097e-05\n",
      "Epoch 34/50\n",
      "2444/2447 [============================>.] - ETA: 0s - loss: 0.1348 - accuracy: 0.9539\n",
      "Epoch 34: val_loss improved from 0.16742 to 0.16676, saving model to ModelWeights.h5\n",
      "2447/2447 [==============================] - 66s 27ms/step - loss: 0.1347 - accuracy: 0.9539 - val_loss: 0.1668 - val_accuracy: 0.9366 - lr: 1.0077e-05\n",
      "Epoch 35/50\n",
      "2444/2447 [============================>.] - ETA: 0s - loss: 0.1337 - accuracy: 0.9555\n",
      "Epoch 35: val_loss improved from 0.16676 to 0.16623, saving model to ModelWeights.h5\n",
      "2447/2447 [==============================] - 65s 27ms/step - loss: 0.1337 - accuracy: 0.9554 - val_loss: 0.1662 - val_accuracy: 0.9373 - lr: 1.0062e-05\n",
      "Epoch 36/50\n",
      "2446/2447 [============================>.] - ETA: 0s - loss: 0.1329 - accuracy: 0.9548\n",
      "Epoch 36: val_loss improved from 0.16623 to 0.16545, saving model to ModelWeights.h5\n",
      "2447/2447 [==============================] - 65s 27ms/step - loss: 0.1329 - accuracy: 0.9548 - val_loss: 0.1654 - val_accuracy: 0.9371 - lr: 1.0050e-05\n",
      "Epoch 37/50\n",
      "2445/2447 [============================>.] - ETA: 0s - loss: 0.1319 - accuracy: 0.9561\n",
      "Epoch 37: val_loss improved from 0.16545 to 0.16527, saving model to ModelWeights.h5\n",
      "2447/2447 [==============================] - 66s 27ms/step - loss: 0.1319 - accuracy: 0.9562 - val_loss: 0.1653 - val_accuracy: 0.9373 - lr: 1.0040e-05\n",
      "Epoch 38/50\n",
      "2444/2447 [============================>.] - ETA: 0s - loss: 0.1314 - accuracy: 0.9564\n",
      "Epoch 38: val_loss improved from 0.16527 to 0.16406, saving model to ModelWeights.h5\n",
      "2447/2447 [==============================] - 65s 27ms/step - loss: 0.1313 - accuracy: 0.9565 - val_loss: 0.1641 - val_accuracy: 0.9375 - lr: 1.0032e-05\n",
      "Epoch 39/50\n",
      "2446/2447 [============================>.] - ETA: 0s - loss: 0.1304 - accuracy: 0.9567\n",
      "Epoch 39: val_loss improved from 0.16406 to 0.16345, saving model to ModelWeights.h5\n",
      "2447/2447 [==============================] - 65s 27ms/step - loss: 0.1304 - accuracy: 0.9566 - val_loss: 0.1635 - val_accuracy: 0.9380 - lr: 1.0025e-05\n",
      "Epoch 40/50\n",
      "2446/2447 [============================>.] - ETA: 0s - loss: 0.1296 - accuracy: 0.9576\n",
      "Epoch 40: val_loss improved from 0.16345 to 0.16291, saving model to ModelWeights.h5\n",
      "2447/2447 [==============================] - 65s 27ms/step - loss: 0.1295 - accuracy: 0.9576 - val_loss: 0.1629 - val_accuracy: 0.9378 - lr: 1.0020e-05\n",
      "Epoch 41/50\n",
      "2446/2447 [============================>.] - ETA: 0s - loss: 0.1288 - accuracy: 0.9569\n",
      "Epoch 41: val_loss improved from 0.16291 to 0.16225, saving model to ModelWeights.h5\n",
      "2447/2447 [==============================] - 64s 26ms/step - loss: 0.1287 - accuracy: 0.9569 - val_loss: 0.1623 - val_accuracy: 0.9390 - lr: 1.0016e-05\n",
      "Epoch 42/50\n",
      "2446/2447 [============================>.] - ETA: 0s - loss: 0.1280 - accuracy: 0.9577\n",
      "Epoch 42: val_loss improved from 0.16225 to 0.16167, saving model to ModelWeights.h5\n",
      "2447/2447 [==============================] - 64s 26ms/step - loss: 0.1280 - accuracy: 0.9577 - val_loss: 0.1617 - val_accuracy: 0.9387 - lr: 1.0013e-05\n",
      "Epoch 43/50\n",
      "2445/2447 [============================>.] - ETA: 0s - loss: 0.1271 - accuracy: 0.9582\n",
      "Epoch 43: val_loss did not improve from 0.16167\n",
      "2447/2447 [==============================] - 64s 26ms/step - loss: 0.1270 - accuracy: 0.9582 - val_loss: 0.1617 - val_accuracy: 0.9378 - lr: 1.0010e-05\n",
      "Epoch 44/50\n",
      "2446/2447 [============================>.] - ETA: 0s - loss: 0.1265 - accuracy: 0.9578\n",
      "Epoch 44: val_loss improved from 0.16167 to 0.16056, saving model to ModelWeights.h5\n",
      "2447/2447 [==============================] - 65s 26ms/step - loss: 0.1265 - accuracy: 0.9578 - val_loss: 0.1606 - val_accuracy: 0.9394 - lr: 1.0008e-05\n",
      "Epoch 45/50\n",
      "2446/2447 [============================>.] - ETA: 0s - loss: 0.1257 - accuracy: 0.9580\n",
      "Epoch 45: val_loss improved from 0.16056 to 0.16002, saving model to ModelWeights.h5\n",
      "2447/2447 [==============================] - 64s 26ms/step - loss: 0.1257 - accuracy: 0.9580 - val_loss: 0.1600 - val_accuracy: 0.9399 - lr: 1.0007e-05\n",
      "Epoch 46/50\n",
      "2446/2447 [============================>.] - ETA: 0s - loss: 0.1248 - accuracy: 0.9587\n",
      "Epoch 46: val_loss improved from 0.16002 to 0.15977, saving model to ModelWeights.h5\n",
      "2447/2447 [==============================] - 64s 26ms/step - loss: 0.1248 - accuracy: 0.9587 - val_loss: 0.1598 - val_accuracy: 0.9397 - lr: 1.0005e-05\n",
      "Epoch 47/50\n",
      "2444/2447 [============================>.] - ETA: 0s - loss: 0.1244 - accuracy: 0.9581\n",
      "Epoch 47: val_loss improved from 0.15977 to 0.15896, saving model to ModelWeights.h5\n",
      "2447/2447 [==============================] - 65s 27ms/step - loss: 0.1243 - accuracy: 0.9581 - val_loss: 0.1590 - val_accuracy: 0.9404 - lr: 1.0004e-05\n",
      "Epoch 48/50\n",
      "2445/2447 [============================>.] - ETA: 0s - loss: 0.1232 - accuracy: 0.9591\n",
      "Epoch 48: val_loss improved from 0.15896 to 0.15864, saving model to ModelWeights.h5\n",
      "2447/2447 [==============================] - 65s 27ms/step - loss: 0.1235 - accuracy: 0.9589 - val_loss: 0.1586 - val_accuracy: 0.9397 - lr: 1.0003e-05\n",
      "Epoch 49/50\n",
      "2444/2447 [============================>.] - ETA: 0s - loss: 0.1230 - accuracy: 0.9589\n",
      "Epoch 49: val_loss improved from 0.15864 to 0.15821, saving model to ModelWeights.h5\n",
      "2447/2447 [==============================] - 66s 27ms/step - loss: 0.1229 - accuracy: 0.9589 - val_loss: 0.1582 - val_accuracy: 0.9397 - lr: 1.0003e-05\n",
      "Epoch 50/50\n"
     ]
    },
    {
     "name": "stdout",
     "output_type": "stream",
     "text": [
      "2444/2447 [============================>.] - ETA: 0s - loss: 0.1219 - accuracy: 0.9595\n",
      "Epoch 50: val_loss improved from 0.15821 to 0.15750, saving model to ModelWeights.h5\n",
      "2447/2447 [==============================] - 64s 26ms/step - loss: 0.1222 - accuracy: 0.9594 - val_loss: 0.1575 - val_accuracy: 0.9411 - lr: 1.0002e-05\n",
      "\n",
      "Restoring best Weights for MobileNetV2\n"
     ]
    }
   ],
   "source": [
    "print('Training head...')\n",
    "#model.load_weights('./Model_Weights.h5')\n",
    "\n",
    "history = model.fit(X_train_nn ,y_train, epochs=epochs,\n",
    "                        callbacks=callbacks,\n",
    "                        validation_data = (X_test_nn, y_test),\n",
    "                        batch_size=batch_size)\n",
    "\n",
    "print('\\nRestoring best Weights for MobileNetV2')\n",
    "model.load_weights(checkpoint_filepath)"
   ]
  },
  {
   "cell_type": "code",
   "execution_count": null,
   "metadata": {
    "execution": {
     "iopub.execute_input": "2021-06-28T21:41:11.914827Z",
     "iopub.status.busy": "2021-06-28T21:41:11.914488Z",
     "iopub.status.idle": "2021-06-28T21:41:11.933416Z",
     "shell.execute_reply": "2021-06-28T21:41:11.932620Z",
     "shell.execute_reply.started": "2021-06-28T21:41:11.914793Z"
    },
    "id": "1s1W3C08sIAE"
   },
   "outputs": [],
   "source": [
    "%matplotlib inline\n",
    "\n",
    "def print_graph(item, index, history):\n",
    "    plt.figure()\n",
    "    train_values = history.history[item][0:index]\n",
    "    plt.plot(train_values)\n",
    "    test_values = history.history['val_' + item][0:index]\n",
    "    plt.plot(test_values)\n",
    "    plt.legend(['training','validation'])\n",
    "    plt.title('Training and validation '+ item)\n",
    "    plt.xlabel('epoch')\n",
    "    plt.show()\n",
    "    plot = '{}.png'.format(item)\n",
    "    plt.savefig(plot)\n",
    "\n",
    "\n",
    "def get_best_epoch(test_loss, history):\n",
    "    for key, item in enumerate(history.history.items()):\n",
    "        (name, arr) = item\n",
    "        if name == 'val_loss':\n",
    "            for i in range(len(arr)):\n",
    "                if round(test_loss, 2) == round(arr[i], 2):\n",
    "                    return i\n",
    "                \n",
    "def model_summary(model, history):\n",
    "    print('---'*30)\n",
    "    test_loss, test_accuracy = model.evaluate(X_test_nn, y_test, verbose=0)\n",
    "\n",
    "    if history:\n",
    "        index = get_best_epoch(test_loss, history)\n",
    "        print('Best Epochs: ', index)\n",
    "\n",
    "        train_accuracy = history.history['accuracy'][index]\n",
    "        train_loss = history.history['loss'][index]\n",
    "\n",
    "        print('Accuracy on train:',train_accuracy,'\\tLoss on train:',train_loss)\n",
    "        print('Accuracy on test:',test_accuracy,'\\tLoss on test:',test_loss)\n",
    "        print_graph('loss', index, history)\n",
    "        print_graph('accuracy', index, history)\n",
    "        print('---'*30)                "
   ]
  },
  {
   "cell_type": "code",
   "execution_count": null,
   "metadata": {
    "execution": {
     "iopub.execute_input": "2021-06-28T21:41:15.265817Z",
     "iopub.status.busy": "2021-06-28T21:41:15.265489Z",
     "iopub.status.idle": "2021-06-28T21:41:18.543465Z",
     "shell.execute_reply": "2021-06-28T21:41:18.542383Z",
     "shell.execute_reply.started": "2021-06-28T21:41:15.265788Z"
    },
    "id": "z4jTgDv7sIAE",
    "outputId": "2159afd8-d667-4ad1-c54c-bf32e4b2465b"
   },
   "outputs": [
    {
     "name": "stdout",
     "output_type": "stream",
     "text": [
      "------------------------------------------------------------------------------------------\n",
      "Best Epochs:  37\n",
      "Accuracy on train: 0.9564639925956726 \tLoss on train: 0.13131743669509888\n",
      "Accuracy on test: 0.9411063194274902 \tLoss on test: 0.1575004756450653\n"
     ]
    },
    {
     "data": {
      "image/png": "[encoded data removed]",
      "text/plain": [
       "<Figure size 432x288 with 1 Axes>"
      ]
     },
     "metadata": {
      "needs_background": "light"
     },
     "output_type": "display_data"
    },
    {
     "data": {
      "text/plain": [
       "<Figure size 432x288 with 0 Axes>"
      ]
     },
     "metadata": {},
     "output_type": "display_data"
    },
    {
     "data": {
      "image/png": "[encoded data removed]",
      "text/plain": [
       "<Figure size 432x288 with 1 Axes>"
      ]
     },
     "metadata": {
      "needs_background": "light"
     },
     "output_type": "display_data"
    },
    {
     "name": "stdout",
     "output_type": "stream",
     "text": [
      "------------------------------------------------------------------------------------------\n"
     ]
    },
    {
     "data": {
      "text/plain": [
       "<Figure size 432x288 with 0 Axes>"
      ]
     },
     "metadata": {},
     "output_type": "display_data"
    }
   ],
   "source": [
    "model_summary(model, history)"
   ]
  },
  {
   "attachments": {},
   "cell_type": "markdown",
   "metadata": {
    "id": "e0eSBvicsIAF"
   },
   "source": [
    "## **Evaluation on test set**"
   ]
  },
  {
   "cell_type": "code",
   "execution_count": null,
   "metadata": {
    "execution": {
     "iopub.execute_input": "2021-06-28T21:41:25.756227Z",
     "iopub.status.busy": "2021-06-28T21:41:25.755863Z",
     "iopub.status.idle": "2021-06-28T21:41:28.541319Z",
     "shell.execute_reply": "2021-06-28T21:41:28.540479Z",
     "shell.execute_reply.started": "2021-06-28T21:41:25.756189Z"
    },
    "id": "RDJb2EZDtwH2",
    "outputId": "e3685299-469c-40b1-e249-026cfcb2e4e2"
   },
   "outputs": [
    {
     "name": "stdout",
     "output_type": "stream",
     "text": [
      "Evaluating network...\n",
      "132/132 [==============================] - 15s 112ms/step\n"
     ]
    }
   ],
   "source": [
    "# evaluate the network\n",
    "print(\"Evaluating network...\")\n",
    "predictions = model.predict(X_test_nn)\n",
    "preds = predictions > 0.5"
   ]
  },
  {
   "cell_type": "code",
   "execution_count": null,
   "metadata": {
    "execution": {
     "iopub.execute_input": "2021-06-28T21:41:29.601949Z",
     "iopub.status.busy": "2021-06-28T21:41:29.601622Z",
     "iopub.status.idle": "2021-06-28T21:41:29.957269Z",
     "shell.execute_reply": "2021-06-28T21:41:29.956236Z",
     "shell.execute_reply.started": "2021-06-28T21:41:29.601912Z"
    },
    "id": "NEiZpFUksIAF",
    "outputId": "2cdc7828-5347-46a9-eec1-83f386aa7065"
   },
   "outputs": [
    {
     "name": "stdout",
     "output_type": "stream",
     "text": [
      "> Correct Predictions: 3947\n",
      "> Wrong Predictions: 247\n"
     ]
    },
    {
     "name": "stderr",
     "output_type": "stream",
     "text": [
      "C:\\Users\\AMAN\\AppData\\Local\\Temp\\ipykernel_13780\\230353805.py:7: DeprecationWarning: `np.int` is a deprecated alias for the builtin `int`. To silence this warning, use `int` by itself. Doing this will not modify any behavior and is safe. When replacing `np.int`, you may wish to use e.g. `np.int64` or `np.int32` to specify the precision. If you wish to review your current use, check the release note link for additional information.\n",
      "Deprecated in NumPy 1.20; for more details and guidance: https://numpy.org/devdocs/release/1.20.0-notes.html#deprecations\n",
      "  n_correct = np.int((corr_pred[0][0] + corr_pred[1][1]))\n",
      "C:\\Users\\AMAN\\AppData\\Local\\Temp\\ipykernel_13780\\230353805.py:9: DeprecationWarning: `np.int` is a deprecated alias for the builtin `int`. To silence this warning, use `int` by itself. Doing this will not modify any behavior and is safe. When replacing `np.int`, you may wish to use e.g. `np.int64` or `np.int32` to specify the precision. If you wish to review your current use, check the release note link for additional information.\n",
      "Deprecated in NumPy 1.20; for more details and guidance: https://numpy.org/devdocs/release/1.20.0-notes.html#deprecations\n",
      "  n_wrongs = np.int((corr_pred[0][1] + (corr_pred[1][0])))\n"
     ]
    },
    {
     "data": {
      "image/png": "[encoded data removed]",
      "text/plain": [
       "<Figure size 432x288 with 2 Axes>"
      ]
     },
     "metadata": {
      "needs_background": "light"
     },
     "output_type": "display_data"
    },
    {
     "name": "stdout",
     "output_type": "stream",
     "text": [
      "              precision    recall  f1-score   support\n",
      "\n",
      " NonViolence       0.94      0.92      0.93      1778\n",
      "    Violence       0.94      0.96      0.95      2416\n",
      "\n",
      "    accuracy                           0.94      4194\n",
      "   macro avg       0.94      0.94      0.94      4194\n",
      "weighted avg       0.94      0.94      0.94      4194\n",
      "\n"
     ]
    }
   ],
   "source": [
    "import seaborn as sns\n",
    "from sklearn import metrics\n",
    "from sklearn.metrics import roc_curve, roc_auc_score, accuracy_score, classification_report, confusion_matrix\n",
    "from scikitplot.metrics import plot_roc_curve\n",
    "corr_pred = metrics.confusion_matrix(y_test, preds)\n",
    "\n",
    "n_correct = np.int((corr_pred[0][0] + corr_pred[1][1]))\n",
    "print('> Correct Predictions:', n_correct)\n",
    "n_wrongs = np.int((corr_pred[0][1] + (corr_pred[1][0])))\n",
    "print('> Wrong Predictions:', n_wrongs)\n",
    "\n",
    "sns.heatmap(corr_pred,annot=True, fmt=\"d\",cmap=\"Blues\")\n",
    "plt.show()\n",
    "\n",
    "print(metrics.classification_report(y_test, preds, \n",
    "                           target_names=[\"NonViolence\", \"Violence\"]))"
   ]
  },
  {
   "cell_type": "code",
   "execution_count": null,
   "metadata": {
    "execution": {
     "iopub.execute_input": "2021-06-27T12:26:57.76156Z",
     "iopub.status.busy": "2021-06-27T12:26:57.761213Z",
     "iopub.status.idle": "2021-06-27T12:26:58.023373Z",
     "shell.execute_reply": "2021-06-27T12:26:58.02252Z",
     "shell.execute_reply.started": "2021-06-27T12:26:57.761526Z"
    },
    "id": "QC4GtxqMtt81"
   },
   "outputs": [],
   "source": [
    "args_model = \"modelnew.h5\"\n",
    "model.save(args_model)"
   ]
  },
  {
   "cell_type": "code",
   "execution_count": null,
   "metadata": {},
   "outputs": [],
   "source": []
  }
 ],
 "metadata": {
  "colab": {
   "name": "mobilenetv2-model.ipynb",
   "provenance": []
  },
  "kernelspec": {
   "display_name": "Python 3 (ipykernel)",
   "language": "python",
   "name": "python3"
  },
  "language_info": {
   "codemirror_mode": {
    "name": "ipython",
    "version": 3
   },
   "file_extension": ".py",
   "mimetype": "text/x-python",
   "name": "python",
   "nbconvert_exporter": "python",
   "pygments_lexer": "ipython3",
   "version": "3.11.3"
  }
 },
 "nbformat": 4,
 "nbformat_minor": 1
}
